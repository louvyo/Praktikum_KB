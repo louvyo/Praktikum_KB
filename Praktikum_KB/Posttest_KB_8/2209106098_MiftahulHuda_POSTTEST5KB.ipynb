{
  "nbformat": 4,
  "nbformat_minor": 0,
  "metadata": {
    "colab": {
      "provenance": [],
      "gpuType": "T4"
    },
    "kernelspec": {
      "name": "python3",
      "display_name": "Python 3"
    },
    "language_info": {
      "name": "python"
    },
    "accelerator": "GPU"
  },
  "cells": [
    {
      "cell_type": "markdown",
      "source": [
        "# 1. **Impor Library**"
      ],
      "metadata": {
        "id": "uXTH7Q-3YPoU"
      }
    },
    {
      "cell_type": "code",
      "source": [
        "import pandas as pd\n",
        "import numpy as np\n",
        "from sklearn.model_selection import train_test_split\n",
        "from sklearn.preprocessing import LabelEncoder, StandardScaler\n",
        "from tensorflow.keras.models import Sequential\n",
        "from tensorflow.keras.layers import Dense\n",
        "from sklearn.metrics import accuracy_score"
      ],
      "metadata": {
        "id": "C3Oo7xC43Ywt"
      },
      "execution_count": 231,
      "outputs": []
    },
    {
      "cell_type": "markdown",
      "source": [
        "Mengimpor library yang diperlukan seperti Pandas, NumPy, dan Keras"
      ],
      "metadata": {
        "id": "-HSFob3oZ4cx"
      }
    },
    {
      "cell_type": "markdown",
      "source": [
        "# 2. **Memuat Dataset**"
      ],
      "metadata": {
        "id": "p1a9P44Vc9Xw"
      }
    },
    {
      "cell_type": "code",
      "source": [
        "# Load the dataset\n",
        "df = pd.read_csv('Most Streamed Spotify Songs 2024.csv', encoding=\"latin-1\")"
      ],
      "metadata": {
        "id": "9D9YJxGz3eyR"
      },
      "execution_count": 232,
      "outputs": []
    },
    {
      "cell_type": "markdown",
      "source": [
        "*   Membaca dataset dari file CSV menggunakan `pd.read_csv`.\n",
        "*   Encoding latin-1 mendukung karakter Latin, termasuk beberapa karakter khusus yang mungkin tidak ada dalam encoding ASCII. Ini bermanfaat jika data Anda mengandung karakter yang berasal dari bahasa Eropa Barat (seperti é, ñ, ü, dll.).\n",
        "\n",
        "\n"
      ],
      "metadata": {
        "id": "XC_DjzEWaDeM"
      }
    },
    {
      "cell_type": "markdown",
      "source": [
        "# 3. **Preprocessing Data**"
      ],
      "metadata": {
        "id": "zWe4vNDxdF7r"
      }
    },
    {
      "cell_type": "code",
      "source": [
        "# konversi kolom tertentu ke numerik dan handle missing values\n",
        "cols_to_numeric = ['Spotify Streams', 'YouTube Views', 'TikTok Likes', 'Track Score']"
      ],
      "metadata": {
        "id": "u5KftpFuDN77"
      },
      "execution_count": 234,
      "outputs": []
    },
    {
      "cell_type": "code",
      "source": [
        "# Mengganti ',' dan konversi kolom ke numerik\n",
        "for col in cols_to_numeric:\n",
        "    df[col] = pd.to_numeric(df[col].astype(str).str.replace(',', '', regex=False), errors='coerce')"
      ],
      "metadata": {
        "id": "aD4g4OEeKg3H"
      },
      "execution_count": 235,
      "outputs": []
    },
    {
      "cell_type": "code",
      "source": [
        "# Mengisi NaN dengan 0 untuk fitur\n",
        "X = X.fillna(0)\n",
        "y = y.fillna(0)  # Mengganti NaN pada target dengan 0"
      ],
      "metadata": {
        "id": "FL0VD0KiMFHC"
      },
      "execution_count": 240,
      "outputs": []
    },
    {
      "cell_type": "code",
      "source": [
        "# Menghapus kolom yang tidak relevan atau yang seluruhnya NaN\n",
        "df = df.dropna(axis=1, how='all')"
      ],
      "metadata": {
        "id": "F-sBPVPJHq9F"
      },
      "execution_count": 237,
      "outputs": []
    },
    {
      "cell_type": "markdown",
      "source": [
        "- Mengubah kolom tertentu menjadi tipe numerik dan menghapus nilai yang hilang.\n",
        "- Mengisi nilai NaN dengan 0 pada fitur dan target.\n",
        "- Kolom yang sepenuhnya kosong dihapus"
      ],
      "metadata": {
        "id": "jiy8VvAOawAg"
      }
    },
    {
      "cell_type": "markdown",
      "source": [
        "# 4. **Membagi Dataset**"
      ],
      "metadata": {
        "id": "Hw_4QTe2dPw9"
      }
    },
    {
      "cell_type": "code",
      "source": [
        "# Memisahkan fitur dan target\n",
        "features = ['Spotify Streams', 'YouTube Views', 'Track Score', 'TikTok Likes']\n",
        "X = df[features]"
      ],
      "metadata": {
        "id": "DvVeO4NvLKxM"
      },
      "execution_count": 238,
      "outputs": []
    },
    {
      "cell_type": "code",
      "source": [
        "# Target adalah Spotify Popularity\n",
        "y = df['Spotify Popularity']"
      ],
      "metadata": {
        "id": "AlBFznFCL8sn"
      },
      "execution_count": 239,
      "outputs": []
    },
    {
      "cell_type": "code",
      "source": [
        "# Membagi dataset menjadi training dan validation set\n",
        "X_train, X_val, y_train, y_val = train_test_split(X, y, test_size=0.2, random_state=42)"
      ],
      "metadata": {
        "id": "7MIkdhOtMI_d"
      },
      "execution_count": 241,
      "outputs": []
    },
    {
      "cell_type": "markdown",
      "source": [
        "* Dataset dipisahkan menjadi fitur (X) dan target (y).\n",
        "- Membagi dataset menjadi set pelatihan dan validasi dengan proporsi 80:20 menggunakan `train_test_split`."
      ],
      "metadata": {
        "id": "jU2a6xMqbS6d"
      }
    },
    {
      "cell_type": "markdown",
      "source": [
        "# 5. **Standarisasi Data**"
      ],
      "metadata": {
        "id": "8MtHCuPldT81"
      }
    },
    {
      "cell_type": "code",
      "source": [
        "# Standarisasi data\n",
        "scaler = StandardScaler()\n",
        "X_train = scaler.fit_transform(X_train)\n",
        "X_val = scaler.transform(X_val)"
      ],
      "metadata": {
        "id": "Gf1Sv6WQMqWm"
      },
      "execution_count": 242,
      "outputs": []
    },
    {
      "cell_type": "markdown",
      "source": [
        "- Menggunakan `StandardScaler` untuk menstandarisasi fitur agar memiliki distribusi yang baik."
      ],
      "metadata": {
        "id": "3xlP4-5RbyXw"
      }
    },
    {
      "cell_type": "markdown",
      "source": [
        "# 6. **Membangun Model**"
      ],
      "metadata": {
        "id": "OGKGzz7FdYF1"
      }
    },
    {
      "cell_type": "code",
      "source": [
        "# Membuat model Sequential\n",
        "model = Sequential()\n",
        "\n",
        "# Menambahkan lapisan input dan hidden layer\n",
        "model.add(Dense(128, activation='relu', input_shape=(X_train.shape[1],)))  # Input layer\n",
        "model.add(Dropout(0.2))  # Regularization layer\n",
        "\n",
        "model.add(Dense(64, activation='relu'))  # Hidden layer\n",
        "model.add(Dropout(0.2))\n",
        "\n",
        "# Menambahkan output layer\n",
        "model.add(Dense(1, activation='linear'))  # Menggunakan 'linear' karena kita memprediksi nilai kontinu"
      ],
      "metadata": {
        "colab": {
          "base_uri": "https://localhost:8080/"
        },
        "id": "365FIKMQMvMi",
        "outputId": "356a6f8b-9015-4b5d-b277-077ac9f72835"
      },
      "execution_count": 252,
      "outputs": [
        {
          "output_type": "stream",
          "name": "stderr",
          "text": [
            "/usr/local/lib/python3.10/dist-packages/keras/src/layers/core/dense.py:87: UserWarning: Do not pass an `input_shape`/`input_dim` argument to a layer. When using Sequential models, prefer using an `Input(shape)` object as the first layer in the model instead.\n",
            "  super().__init__(activity_regularizer=activity_regularizer, **kwargs)\n"
          ]
        }
      ]
    },
    {
      "cell_type": "markdown",
      "source": [
        "- Membuat model **Sequential** dengan:\n",
        "     - Input layer dengan 128 neuron.\n",
        "     - Hidden layer dengan 64 neuron.\n",
        "     - Output layer dengan 1 neuron (linear activation)."
      ],
      "metadata": {
        "id": "1T-Je7zpcIF6"
      }
    },
    {
      "cell_type": "markdown",
      "source": [
        "# 7. **Kompilasi Model**"
      ],
      "metadata": {
        "id": "KuXJBwdodd_0"
      }
    },
    {
      "cell_type": "code",
      "source": [
        "# Mengkompilasi model\n",
        "model.compile(optimizer='adam', loss='mean_squared_error', metrics=['mae'])  # Menggunakan MSE untuk regresi"
      ],
      "metadata": {
        "id": "HmA8fVFsQY-v"
      },
      "execution_count": 253,
      "outputs": []
    },
    {
      "cell_type": "markdown",
      "source": [
        "- Menggunakan optimizer Adam dan mean squared error (MSE) sebagai loss function."
      ],
      "metadata": {
        "id": "_hI8RmvzcNT6"
      }
    },
    {
      "cell_type": "markdown",
      "source": [
        "# 8. **Melatih Model**"
      ],
      "metadata": {
        "id": "6Mj0RXnKdgZn"
      }
    },
    {
      "cell_type": "code",
      "source": [
        "# Melatih model\n",
        "history = model.fit(X_train, y_train, epochs=50, batch_size=32, validation_data=(X_val, y_val))\n"
      ],
      "metadata": {
        "colab": {
          "base_uri": "https://localhost:8080/"
        },
        "id": "jSd-N1VoQa8i",
        "outputId": "8ae0845d-0b78-43cb-8a3e-038251f619a6"
      },
      "execution_count": 246,
      "outputs": [
        {
          "output_type": "stream",
          "name": "stdout",
          "text": [
            "Epoch 1/50\n",
            "\u001b[1m115/115\u001b[0m \u001b[32m━━━━━━━━━━━━━━━━━━━━\u001b[0m\u001b[37m\u001b[0m \u001b[1m3s\u001b[0m 8ms/step - loss: 3243.4893 - mae: 50.7609 - val_loss: 1619.8868 - val_mae: 33.9162\n",
            "Epoch 2/50\n",
            "\u001b[1m115/115\u001b[0m \u001b[32m━━━━━━━━━━━━━━━━━━━━\u001b[0m\u001b[37m\u001b[0m \u001b[1m0s\u001b[0m 2ms/step - loss: 1138.2129 - mae: 29.4996 - val_loss: 1215.4407 - val_mae: 26.0420\n",
            "Epoch 3/50\n",
            "\u001b[1m115/115\u001b[0m \u001b[32m━━━━━━━━━━━━━━━━━━━━\u001b[0m\u001b[37m\u001b[0m \u001b[1m0s\u001b[0m 2ms/step - loss: 940.7398 - mae: 24.6358 - val_loss: 1048.7889 - val_mae: 24.8580\n",
            "Epoch 4/50\n",
            "\u001b[1m115/115\u001b[0m \u001b[32m━━━━━━━━━━━━━━━━━━━━\u001b[0m\u001b[37m\u001b[0m \u001b[1m0s\u001b[0m 2ms/step - loss: 799.8876 - mae: 23.1483 - val_loss: 945.9362 - val_mae: 23.6937\n",
            "Epoch 5/50\n",
            "\u001b[1m115/115\u001b[0m \u001b[32m━━━━━━━━━━━━━━━━━━━━\u001b[0m\u001b[37m\u001b[0m \u001b[1m0s\u001b[0m 2ms/step - loss: 771.3666 - mae: 22.5229 - val_loss: 883.5547 - val_mae: 23.5581\n",
            "Epoch 6/50\n",
            "\u001b[1m115/115\u001b[0m \u001b[32m━━━━━━━━━━━━━━━━━━━━\u001b[0m\u001b[37m\u001b[0m \u001b[1m0s\u001b[0m 2ms/step - loss: 778.9847 - mae: 22.8200 - val_loss: 838.9968 - val_mae: 22.5405\n",
            "Epoch 7/50\n",
            "\u001b[1m115/115\u001b[0m \u001b[32m━━━━━━━━━━━━━━━━━━━━\u001b[0m\u001b[37m\u001b[0m \u001b[1m0s\u001b[0m 2ms/step - loss: 716.7455 - mae: 21.3679 - val_loss: 795.6299 - val_mae: 22.5711\n",
            "Epoch 8/50\n",
            "\u001b[1m115/115\u001b[0m \u001b[32m━━━━━━━━━━━━━━━━━━━━\u001b[0m\u001b[37m\u001b[0m \u001b[1m0s\u001b[0m 2ms/step - loss: 728.7271 - mae: 21.9585 - val_loss: 768.7890 - val_mae: 21.9164\n",
            "Epoch 9/50\n",
            "\u001b[1m115/115\u001b[0m \u001b[32m━━━━━━━━━━━━━━━━━━━━\u001b[0m\u001b[37m\u001b[0m \u001b[1m0s\u001b[0m 2ms/step - loss: 752.6569 - mae: 21.9030 - val_loss: 745.3823 - val_mae: 21.8337\n",
            "Epoch 10/50\n",
            "\u001b[1m115/115\u001b[0m \u001b[32m━━━━━━━━━━━━━━━━━━━━\u001b[0m\u001b[37m\u001b[0m \u001b[1m0s\u001b[0m 2ms/step - loss: 707.1349 - mae: 21.2878 - val_loss: 721.0835 - val_mae: 22.1052\n",
            "Epoch 11/50\n",
            "\u001b[1m115/115\u001b[0m \u001b[32m━━━━━━━━━━━━━━━━━━━━\u001b[0m\u001b[37m\u001b[0m \u001b[1m0s\u001b[0m 2ms/step - loss: 681.1765 - mae: 21.2315 - val_loss: 706.6507 - val_mae: 22.0831\n",
            "Epoch 12/50\n",
            "\u001b[1m115/115\u001b[0m \u001b[32m━━━━━━━━━━━━━━━━━━━━\u001b[0m\u001b[37m\u001b[0m \u001b[1m0s\u001b[0m 2ms/step - loss: 674.2909 - mae: 21.1475 - val_loss: 687.2178 - val_mae: 21.6523\n",
            "Epoch 13/50\n",
            "\u001b[1m115/115\u001b[0m \u001b[32m━━━━━━━━━━━━━━━━━━━━\u001b[0m\u001b[37m\u001b[0m \u001b[1m0s\u001b[0m 2ms/step - loss: 661.2388 - mae: 20.8336 - val_loss: 674.9497 - val_mae: 21.7922\n",
            "Epoch 14/50\n",
            "\u001b[1m115/115\u001b[0m \u001b[32m━━━━━━━━━━━━━━━━━━━━\u001b[0m\u001b[37m\u001b[0m \u001b[1m0s\u001b[0m 2ms/step - loss: 663.5338 - mae: 21.0570 - val_loss: 658.9704 - val_mae: 19.8423\n",
            "Epoch 15/50\n",
            "\u001b[1m115/115\u001b[0m \u001b[32m━━━━━━━━━━━━━━━━━━━━\u001b[0m\u001b[37m\u001b[0m \u001b[1m0s\u001b[0m 2ms/step - loss: 642.3975 - mae: 20.1028 - val_loss: 635.7996 - val_mae: 20.4959\n",
            "Epoch 16/50\n",
            "\u001b[1m115/115\u001b[0m \u001b[32m━━━━━━━━━━━━━━━━━━━━\u001b[0m\u001b[37m\u001b[0m \u001b[1m0s\u001b[0m 2ms/step - loss: 641.7910 - mae: 20.2364 - val_loss: 618.9194 - val_mae: 20.4322\n",
            "Epoch 17/50\n",
            "\u001b[1m115/115\u001b[0m \u001b[32m━━━━━━━━━━━━━━━━━━━━\u001b[0m\u001b[37m\u001b[0m \u001b[1m0s\u001b[0m 2ms/step - loss: 640.0273 - mae: 20.2435 - val_loss: 604.3940 - val_mae: 19.4627\n",
            "Epoch 18/50\n",
            "\u001b[1m115/115\u001b[0m \u001b[32m━━━━━━━━━━━━━━━━━━━━\u001b[0m\u001b[37m\u001b[0m \u001b[1m0s\u001b[0m 2ms/step - loss: 645.2399 - mae: 20.3557 - val_loss: 596.4747 - val_mae: 18.4993\n",
            "Epoch 19/50\n",
            "\u001b[1m115/115\u001b[0m \u001b[32m━━━━━━━━━━━━━━━━━━━━\u001b[0m\u001b[37m\u001b[0m \u001b[1m0s\u001b[0m 2ms/step - loss: 598.6858 - mae: 19.2093 - val_loss: 581.7971 - val_mae: 19.4616\n",
            "Epoch 20/50\n",
            "\u001b[1m115/115\u001b[0m \u001b[32m━━━━━━━━━━━━━━━━━━━━\u001b[0m\u001b[37m\u001b[0m \u001b[1m0s\u001b[0m 2ms/step - loss: 621.2112 - mae: 19.9009 - val_loss: 578.7410 - val_mae: 18.3717\n",
            "Epoch 21/50\n",
            "\u001b[1m115/115\u001b[0m \u001b[32m━━━━━━━━━━━━━━━━━━━━\u001b[0m\u001b[37m\u001b[0m \u001b[1m0s\u001b[0m 2ms/step - loss: 606.6260 - mae: 19.2578 - val_loss: 565.2827 - val_mae: 18.9111\n",
            "Epoch 22/50\n",
            "\u001b[1m115/115\u001b[0m \u001b[32m━━━━━━━━━━━━━━━━━━━━\u001b[0m\u001b[37m\u001b[0m \u001b[1m1s\u001b[0m 3ms/step - loss: 610.0656 - mae: 19.3806 - val_loss: 562.9490 - val_mae: 18.9679\n",
            "Epoch 23/50\n",
            "\u001b[1m115/115\u001b[0m \u001b[32m━━━━━━━━━━━━━━━━━━━━\u001b[0m\u001b[37m\u001b[0m \u001b[1m1s\u001b[0m 3ms/step - loss: 583.2840 - mae: 19.0328 - val_loss: 554.3580 - val_mae: 18.6155\n",
            "Epoch 24/50\n",
            "\u001b[1m115/115\u001b[0m \u001b[32m━━━━━━━━━━━━━━━━━━━━\u001b[0m\u001b[37m\u001b[0m \u001b[1m0s\u001b[0m 3ms/step - loss: 605.0511 - mae: 19.2562 - val_loss: 553.4465 - val_mae: 18.0578\n",
            "Epoch 25/50\n",
            "\u001b[1m115/115\u001b[0m \u001b[32m━━━━━━━━━━━━━━━━━━━━\u001b[0m\u001b[37m\u001b[0m \u001b[1m1s\u001b[0m 3ms/step - loss: 617.6299 - mae: 19.2563 - val_loss: 556.3817 - val_mae: 17.7445\n",
            "Epoch 26/50\n",
            "\u001b[1m115/115\u001b[0m \u001b[32m━━━━━━━━━━━━━━━━━━━━\u001b[0m\u001b[37m\u001b[0m \u001b[1m0s\u001b[0m 2ms/step - loss: 583.2947 - mae: 18.6564 - val_loss: 548.5327 - val_mae: 17.9454\n",
            "Epoch 27/50\n",
            "\u001b[1m115/115\u001b[0m \u001b[32m━━━━━━━━━━━━━━━━━━━━\u001b[0m\u001b[37m\u001b[0m \u001b[1m0s\u001b[0m 2ms/step - loss: 590.4855 - mae: 18.8653 - val_loss: 542.1162 - val_mae: 18.0966\n",
            "Epoch 28/50\n",
            "\u001b[1m115/115\u001b[0m \u001b[32m━━━━━━━━━━━━━━━━━━━━\u001b[0m\u001b[37m\u001b[0m \u001b[1m0s\u001b[0m 2ms/step - loss: 600.3817 - mae: 19.2675 - val_loss: 546.8997 - val_mae: 17.3432\n",
            "Epoch 29/50\n",
            "\u001b[1m115/115\u001b[0m \u001b[32m━━━━━━━━━━━━━━━━━━━━\u001b[0m\u001b[37m\u001b[0m \u001b[1m0s\u001b[0m 2ms/step - loss: 580.0443 - mae: 18.4184 - val_loss: 539.2886 - val_mae: 18.2299\n",
            "Epoch 30/50\n",
            "\u001b[1m115/115\u001b[0m \u001b[32m━━━━━━━━━━━━━━━━━━━━\u001b[0m\u001b[37m\u001b[0m \u001b[1m0s\u001b[0m 2ms/step - loss: 595.3065 - mae: 18.9900 - val_loss: 546.6052 - val_mae: 17.6810\n",
            "Epoch 31/50\n",
            "\u001b[1m115/115\u001b[0m \u001b[32m━━━━━━━━━━━━━━━━━━━━\u001b[0m\u001b[37m\u001b[0m \u001b[1m0s\u001b[0m 3ms/step - loss: 599.2363 - mae: 18.8875 - val_loss: 539.4338 - val_mae: 18.3951\n",
            "Epoch 32/50\n",
            "\u001b[1m115/115\u001b[0m \u001b[32m━━━━━━━━━━━━━━━━━━━━\u001b[0m\u001b[37m\u001b[0m \u001b[1m0s\u001b[0m 2ms/step - loss: 586.9813 - mae: 18.6391 - val_loss: 541.0162 - val_mae: 18.3409\n",
            "Epoch 33/50\n",
            "\u001b[1m115/115\u001b[0m \u001b[32m━━━━━━━━━━━━━━━━━━━━\u001b[0m\u001b[37m\u001b[0m \u001b[1m0s\u001b[0m 2ms/step - loss: 605.1691 - mae: 19.0004 - val_loss: 534.0383 - val_mae: 17.8087\n",
            "Epoch 34/50\n",
            "\u001b[1m115/115\u001b[0m \u001b[32m━━━━━━━━━━━━━━━━━━━━\u001b[0m\u001b[37m\u001b[0m \u001b[1m0s\u001b[0m 2ms/step - loss: 603.6858 - mae: 18.8732 - val_loss: 537.5535 - val_mae: 18.4569\n",
            "Epoch 35/50\n",
            "\u001b[1m115/115\u001b[0m \u001b[32m━━━━━━━━━━━━━━━━━━━━\u001b[0m\u001b[37m\u001b[0m \u001b[1m0s\u001b[0m 2ms/step - loss: 601.8018 - mae: 18.8819 - val_loss: 550.2284 - val_mae: 18.0670\n",
            "Epoch 36/50\n",
            "\u001b[1m115/115\u001b[0m \u001b[32m━━━━━━━━━━━━━━━━━━━━\u001b[0m\u001b[37m\u001b[0m \u001b[1m0s\u001b[0m 2ms/step - loss: 578.5198 - mae: 18.7765 - val_loss: 532.3127 - val_mae: 17.6159\n",
            "Epoch 37/50\n",
            "\u001b[1m115/115\u001b[0m \u001b[32m━━━━━━━━━━━━━━━━━━━━\u001b[0m\u001b[37m\u001b[0m \u001b[1m0s\u001b[0m 2ms/step - loss: 565.1035 - mae: 18.0799 - val_loss: 534.4905 - val_mae: 17.5419\n",
            "Epoch 38/50\n",
            "\u001b[1m115/115\u001b[0m \u001b[32m━━━━━━━━━━━━━━━━━━━━\u001b[0m\u001b[37m\u001b[0m \u001b[1m0s\u001b[0m 2ms/step - loss: 568.7650 - mae: 18.3489 - val_loss: 533.2684 - val_mae: 17.7741\n",
            "Epoch 39/50\n",
            "\u001b[1m115/115\u001b[0m \u001b[32m━━━━━━━━━━━━━━━━━━━━\u001b[0m\u001b[37m\u001b[0m \u001b[1m0s\u001b[0m 2ms/step - loss: 571.8511 - mae: 17.9664 - val_loss: 537.6450 - val_mae: 17.0774\n",
            "Epoch 40/50\n",
            "\u001b[1m115/115\u001b[0m \u001b[32m━━━━━━━━━━━━━━━━━━━━\u001b[0m\u001b[37m\u001b[0m \u001b[1m0s\u001b[0m 2ms/step - loss: 593.7723 - mae: 18.5396 - val_loss: 526.9913 - val_mae: 17.6775\n",
            "Epoch 41/50\n",
            "\u001b[1m115/115\u001b[0m \u001b[32m━━━━━━━━━━━━━━━━━━━━\u001b[0m\u001b[37m\u001b[0m \u001b[1m0s\u001b[0m 2ms/step - loss: 547.9700 - mae: 17.7400 - val_loss: 534.3209 - val_mae: 17.7046\n",
            "Epoch 42/50\n",
            "\u001b[1m115/115\u001b[0m \u001b[32m━━━━━━━━━━━━━━━━━━━━\u001b[0m\u001b[37m\u001b[0m \u001b[1m0s\u001b[0m 2ms/step - loss: 572.6647 - mae: 18.2538 - val_loss: 532.3108 - val_mae: 18.1732\n",
            "Epoch 43/50\n",
            "\u001b[1m115/115\u001b[0m \u001b[32m━━━━━━━━━━━━━━━━━━━━\u001b[0m\u001b[37m\u001b[0m \u001b[1m0s\u001b[0m 2ms/step - loss: 583.8599 - mae: 18.6170 - val_loss: 536.5384 - val_mae: 17.3222\n",
            "Epoch 44/50\n",
            "\u001b[1m115/115\u001b[0m \u001b[32m━━━━━━━━━━━━━━━━━━━━\u001b[0m\u001b[37m\u001b[0m \u001b[1m0s\u001b[0m 2ms/step - loss: 579.2733 - mae: 18.3530 - val_loss: 533.2066 - val_mae: 18.3527\n",
            "Epoch 45/50\n",
            "\u001b[1m115/115\u001b[0m \u001b[32m━━━━━━━━━━━━━━━━━━━━\u001b[0m\u001b[37m\u001b[0m \u001b[1m0s\u001b[0m 2ms/step - loss: 560.5388 - mae: 18.1042 - val_loss: 535.9493 - val_mae: 17.4995\n",
            "Epoch 46/50\n",
            "\u001b[1m115/115\u001b[0m \u001b[32m━━━━━━━━━━━━━━━━━━━━\u001b[0m\u001b[37m\u001b[0m \u001b[1m0s\u001b[0m 2ms/step - loss: 563.4103 - mae: 18.0522 - val_loss: 531.3922 - val_mae: 17.1292\n",
            "Epoch 47/50\n",
            "\u001b[1m115/115\u001b[0m \u001b[32m━━━━━━━━━━━━━━━━━━━━\u001b[0m\u001b[37m\u001b[0m \u001b[1m0s\u001b[0m 2ms/step - loss: 586.7784 - mae: 18.4132 - val_loss: 529.5308 - val_mae: 17.9523\n",
            "Epoch 48/50\n",
            "\u001b[1m115/115\u001b[0m \u001b[32m━━━━━━━━━━━━━━━━━━━━\u001b[0m\u001b[37m\u001b[0m \u001b[1m0s\u001b[0m 3ms/step - loss: 594.4274 - mae: 18.7311 - val_loss: 522.6105 - val_mae: 16.9992\n",
            "Epoch 49/50\n",
            "\u001b[1m115/115\u001b[0m \u001b[32m━━━━━━━━━━━━━━━━━━━━\u001b[0m\u001b[37m\u001b[0m \u001b[1m0s\u001b[0m 2ms/step - loss: 583.9631 - mae: 18.3265 - val_loss: 518.0845 - val_mae: 17.0812\n",
            "Epoch 50/50\n",
            "\u001b[1m115/115\u001b[0m \u001b[32m━━━━━━━━━━━━━━━━━━━━\u001b[0m\u001b[37m\u001b[0m \u001b[1m0s\u001b[0m 2ms/step - loss: 563.1364 - mae: 17.7751 - val_loss: 519.9908 - val_mae: 17.4262\n"
          ]
        }
      ]
    },
    {
      "cell_type": "markdown",
      "source": [
        "- Melatih model dengan data pelatihan selama 50 epoch."
      ],
      "metadata": {
        "id": "ueeQkH7IcRYN"
      }
    },
    {
      "cell_type": "markdown",
      "source": [
        "# 9. **Evaluasi Model**"
      ],
      "metadata": {
        "id": "G2IJcxK4dwE3"
      }
    },
    {
      "cell_type": "code",
      "source": [
        "# Evaluasi model\n",
        "loss, mae = model.evaluate(X_val, y_val)\n",
        "print(f'Validation MAE: {mae:.2f}')\n",
        "\n",
        "# Menghitung rentang nilai Spotify Popularity\n",
        "min_value = y_val.min()\n",
        "max_value = y_val.max()\n",
        "range_value = max_value - min_value\n",
        "\n",
        "# Menghitung persentase akurasi validasi\n",
        "if range_value > 0:\n",
        "    validation_accuracy_percentage = (1 - (mae / range_value)) * 100\n",
        "else:\n",
        "    validation_accuracy_percentage = 100  # Jika tidak ada rentang, akurasi dianggap 100%\n",
        "\n",
        "print(f'Akurasi Validasi: {validation_accuracy_percentage:.2f}%')\n",
        "\n",
        "# Menghitung akurasi pelatihan\n",
        "train_loss, train_mae = model.evaluate(X_train, y_train, verbose=0)\n",
        "train_accuracy_percentage = (1 - (train_mae / range_value)) * 100 if range_value > 0 else 100\n",
        "\n",
        "print(f'Akurasi Pelatihan: {train_accuracy_percentage:.2f}%')"
      ],
      "metadata": {
        "colab": {
          "base_uri": "https://localhost:8080/"
        },
        "id": "_xmJ-4m7V4SJ",
        "outputId": "c45d431b-c3cd-48a0-c43d-38255a133dca"
      },
      "execution_count": 247,
      "outputs": [
        {
          "output_type": "stream",
          "name": "stdout",
          "text": [
            "\u001b[1m29/29\u001b[0m \u001b[32m━━━━━━━━━━━━━━━━━━━━\u001b[0m\u001b[37m\u001b[0m \u001b[1m0s\u001b[0m 1ms/step - loss: 488.3600 - mae: 16.8984 \n",
            "Validation MAE: 17.43\n",
            "Akurasi Validasi: 81.06%\n",
            "Akurasi Pelatihan: 81.26%\n"
          ]
        }
      ]
    },
    {
      "cell_type": "markdown",
      "source": [
        "- Menghitung Mean Absolute Error (MAE) untuk set validasi dan pelatihan.\n",
        "- Menghitung persentase akurasi untuk validasi dan pelatihan berdasarkan rentang nilai target."
      ],
      "metadata": {
        "id": "LJqQt9HccaAN"
      }
    },
    {
      "cell_type": "markdown",
      "source": [
        "# 10. **Prediksi**"
      ],
      "metadata": {
        "id": "5-0mlBF0dzTQ"
      }
    },
    {
      "cell_type": "code",
      "source": [
        "# Memprediksi dan Menentukan 10 Artis Paling Disukai\n",
        "y_pred = model.predict(X_val)\n",
        "df_val = pd.DataFrame(X_val, columns=features)\n",
        "df_val['Predicted Popularity'] = y_pred\n",
        "\n",
        "# Menghitung Total Popularity berdasarkan prediksi\n",
        "df['Total Popularity'] = df['Spotify Popularity'] + df['YouTube Views'].fillna(0) + df['TikTok Likes'].fillna(0)\n",
        "\n",
        "# Mengelompokkan berdasarkan artis dan menjumlahkan total popularitas\n",
        "artist_popularity = df.groupby('Artist')['Total Popularity'].sum().reset_index()\n",
        "\n",
        "# Mengurutkan berdasarkan total popularitas\n",
        "top_artists = artist_popularity.sort_values(by='Total Popularity', ascending=False).head(10)\n",
        "\n",
        "# Memformat output untuk tampilan yang lebih baik\n",
        "top_artists['Total Popularity'] = top_artists['Total Popularity'].apply(lambda x: f\"{x:,.0f}\")  # Format angka\n",
        "\n",
        "# Menambahkan nomor urut\n",
        "top_artists.reset_index(drop=True, inplace=True)\n",
        "top_artists.index += 1  # Menambahkan 1 ke index untuk mulai dari 1\n",
        "top_artists.index.name = 'No'  # Menamai index sebagai 'No'\n",
        "\n",
        "# Menampilkan 10 artis teratas dengan tampilan yang lebih baik\n",
        "print(\"10 Artis Paling Disukai:\")\n",
        "print(top_artists.to_string())  # Menghapus index untuk tampilan yang lebih bersih\n"
      ],
      "metadata": {
        "colab": {
          "base_uri": "https://localhost:8080/"
        },
        "id": "44hw8E3cV69E",
        "outputId": "258fbb40-067c-4d5a-e383-a297db4a89d9"
      },
      "execution_count": 251,
      "outputs": [
        {
          "output_type": "stream",
          "name": "stdout",
          "text": [
            "\u001b[1m29/29\u001b[0m \u001b[32m━━━━━━━━━━━━━━━━━━━━\u001b[0m\u001b[37m\u001b[0m \u001b[1m0s\u001b[0m 4ms/step\n",
            "10 Artis Paling Disukai:\n",
            "                      Artist Total Popularity\n",
            "No                                           \n",
            "1                 Ed Sheeran   29,283,043,864\n",
            "2                  Bad Bunny   28,143,427,178\n",
            "3              Kevin MacLeod   23,485,681,035\n",
            "4               Taylor Swift   22,961,724,922\n",
            "5              Justin Bieber   20,722,384,418\n",
            "6              Ariana Grande   20,650,559,653\n",
            "7                 The Weeknd   20,203,067,561\n",
            "8                  BLACKPINK   19,324,392,712\n",
            "9                        BTS   18,873,331,262\n",
            "10  The King Khan & BBQ Show   18,430,299,713\n"
          ]
        }
      ]
    },
    {
      "cell_type": "markdown",
      "source": [
        "- Memprediksi popularitas lagu menggunakan data validasi dan menentukan total popularitas untuk setiap artis.\n",
        "- Mengelompokkan artis berdasarkan total popularitas dan menampilkan 10 artis paling disukai dengan format yang lebih baik.\n"
      ],
      "metadata": {
        "id": "Zl6Q4Py5cngV"
      }
    }
  ]
}